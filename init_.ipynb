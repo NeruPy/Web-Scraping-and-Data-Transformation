{
 "cells": [
  {
   "cell_type": "code",
   "execution_count": 18,
   "metadata": {},
   "outputs": [
    {
     "data": {
      "text/plain": [
       "'https://amazon.com/Graphics-4096x2160-Multimedia-Interface-Computer/dp/B0BNBSSS43/ref=sr_1_1?crid=2DFXGUNNEBTI4&keywords=gtx+gpu&qid=1694270451&sprefix=gtx+gp%2Caps%2C426&sr=8-1'"
      ]
     },
     "execution_count": 18,
     "metadata": {},
     "output_type": "execute_result"
    }
   ],
   "source": [
    "import bs4 as s\n",
    "import requests as r\n",
    "import pandas as pd\n",
    "\n",
    "URL = 'https://www.amazon.com.au/s?k=gtx+gpu&crid=2DFXGUNNEBTI4&sprefix=gtx+gp%2Caps%2C426&ref=nb_sb_noss_2'\n",
    "\n",
    "HEADERS = ({'User-Agent':'Mozilla/5.0 (Windows NT 10.0; Win64; x64) AppleWebKit/537.36 (KHTML, like Gecko) Chrome/114.0.0.0 Safari/537.36 OPR/100.0.0.0',\n",
    "            'Accept-Language': 'en-US, en;q=0.5'})\n",
    "webpage = r.get(URL, headers = HEADERS)\n",
    "\n",
    "soup = s.BeautifulSoup(webpage.content, 'html.parser')\n",
    "\n",
    "links = soup.find_all(\"a\", attrs={'class':'a-link-normal s-underline-text s-underline-link-text s-link-style a-text-normal'})\n",
    "\n",
    "link = links[0].get('href')\n",
    "\n",
    "product_list = \"https://amazon.com\" + link\n",
    "\n",
    "product_list"
   ]
  },
  {
   "cell_type": "code",
   "execution_count": null,
   "metadata": {},
   "outputs": [],
   "source": []
  }
 ],
 "metadata": {
  "kernelspec": {
   "display_name": "whisper",
   "language": "python",
   "name": "python3"
  },
  "language_info": {
   "codemirror_mode": {
    "name": "ipython",
    "version": 3
   },
   "file_extension": ".py",
   "mimetype": "text/x-python",
   "name": "python",
   "nbconvert_exporter": "python",
   "pygments_lexer": "ipython3",
   "version": "3.9.13"
  },
  "orig_nbformat": 4
 },
 "nbformat": 4,
 "nbformat_minor": 2
}
